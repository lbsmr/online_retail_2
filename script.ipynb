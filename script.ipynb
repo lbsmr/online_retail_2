{
 "cells": [
  {
   "cell_type": "code",
   "execution_count": 1,
   "id": "0e864e84",
   "metadata": {},
   "outputs": [],
   "source": [
    "import pandas as pd\n",
    "import sqlite3\n",
    "import matplotlib.pyplot as plt\n",
    "import seaborn as sns"
   ]
  },
  {
   "cell_type": "code",
   "execution_count": 2,
   "id": "d96021c5",
   "metadata": {},
   "outputs": [],
   "source": [
    "connect = sqlite3.connect('data.db')\n",
    "cursor = connect.cursor()"
   ]
  },
  {
   "cell_type": "code",
   "execution_count": 3,
   "id": "04a86e39",
   "metadata": {},
   "outputs": [
    {
     "data": {
      "text/html": [
       "<div>\n",
       "<style scoped>\n",
       "    .dataframe tbody tr th:only-of-type {\n",
       "        vertical-align: middle;\n",
       "    }\n",
       "\n",
       "    .dataframe tbody tr th {\n",
       "        vertical-align: top;\n",
       "    }\n",
       "\n",
       "    .dataframe thead th {\n",
       "        text-align: right;\n",
       "    }\n",
       "</style>\n",
       "<table border=\"1\" class=\"dataframe\">\n",
       "  <thead>\n",
       "    <tr style=\"text-align: right;\">\n",
       "      <th></th>\n",
       "      <th>index</th>\n",
       "      <th>Customer_ID</th>\n",
       "      <th>Age</th>\n",
       "      <th>Gender</th>\n",
       "      <th>Annual_Income</th>\n",
       "      <th>Total_Spend</th>\n",
       "      <th>Years_as_Customer</th>\n",
       "      <th>Num_of_Purchases</th>\n",
       "      <th>Average_Transaction_Amount</th>\n",
       "      <th>Num_of_Returns</th>\n",
       "      <th>Num_of_Support_Contacts</th>\n",
       "      <th>Satisfaction_Score</th>\n",
       "      <th>Last_Purchase_Days_Ago</th>\n",
       "      <th>Email_Opt_In</th>\n",
       "      <th>Promotion_Response</th>\n",
       "      <th>Target_Churn</th>\n",
       "    </tr>\n",
       "  </thead>\n",
       "  <tbody>\n",
       "    <tr>\n",
       "      <th>0</th>\n",
       "      <td>0</td>\n",
       "      <td>1</td>\n",
       "      <td>62</td>\n",
       "      <td>Other</td>\n",
       "      <td>45.15</td>\n",
       "      <td>5892.58</td>\n",
       "      <td>5</td>\n",
       "      <td>22</td>\n",
       "      <td>453.80</td>\n",
       "      <td>2</td>\n",
       "      <td>0</td>\n",
       "      <td>3</td>\n",
       "      <td>129</td>\n",
       "      <td>1</td>\n",
       "      <td>Responded</td>\n",
       "      <td>1</td>\n",
       "    </tr>\n",
       "    <tr>\n",
       "      <th>1</th>\n",
       "      <td>1</td>\n",
       "      <td>2</td>\n",
       "      <td>65</td>\n",
       "      <td>Male</td>\n",
       "      <td>79.51</td>\n",
       "      <td>9025.47</td>\n",
       "      <td>13</td>\n",
       "      <td>77</td>\n",
       "      <td>22.90</td>\n",
       "      <td>2</td>\n",
       "      <td>2</td>\n",
       "      <td>3</td>\n",
       "      <td>227</td>\n",
       "      <td>0</td>\n",
       "      <td>Responded</td>\n",
       "      <td>0</td>\n",
       "    </tr>\n",
       "    <tr>\n",
       "      <th>2</th>\n",
       "      <td>2</td>\n",
       "      <td>3</td>\n",
       "      <td>18</td>\n",
       "      <td>Male</td>\n",
       "      <td>29.19</td>\n",
       "      <td>618.83</td>\n",
       "      <td>13</td>\n",
       "      <td>71</td>\n",
       "      <td>50.53</td>\n",
       "      <td>5</td>\n",
       "      <td>2</td>\n",
       "      <td>2</td>\n",
       "      <td>283</td>\n",
       "      <td>0</td>\n",
       "      <td>Responded</td>\n",
       "      <td>1</td>\n",
       "    </tr>\n",
       "    <tr>\n",
       "      <th>3</th>\n",
       "      <td>3</td>\n",
       "      <td>4</td>\n",
       "      <td>21</td>\n",
       "      <td>Other</td>\n",
       "      <td>79.63</td>\n",
       "      <td>9110.30</td>\n",
       "      <td>3</td>\n",
       "      <td>33</td>\n",
       "      <td>411.83</td>\n",
       "      <td>5</td>\n",
       "      <td>3</td>\n",
       "      <td>5</td>\n",
       "      <td>226</td>\n",
       "      <td>1</td>\n",
       "      <td>Ignored</td>\n",
       "      <td>1</td>\n",
       "    </tr>\n",
       "    <tr>\n",
       "      <th>4</th>\n",
       "      <td>4</td>\n",
       "      <td>5</td>\n",
       "      <td>21</td>\n",
       "      <td>Other</td>\n",
       "      <td>77.66</td>\n",
       "      <td>5390.88</td>\n",
       "      <td>15</td>\n",
       "      <td>43</td>\n",
       "      <td>101.19</td>\n",
       "      <td>3</td>\n",
       "      <td>0</td>\n",
       "      <td>5</td>\n",
       "      <td>242</td>\n",
       "      <td>0</td>\n",
       "      <td>Unsubscribed</td>\n",
       "      <td>0</td>\n",
       "    </tr>\n",
       "  </tbody>\n",
       "</table>\n",
       "</div>"
      ],
      "text/plain": [
       "   index  Customer_ID  Age Gender  Annual_Income  Total_Spend  \\\n",
       "0      0            1   62  Other          45.15      5892.58   \n",
       "1      1            2   65   Male          79.51      9025.47   \n",
       "2      2            3   18   Male          29.19       618.83   \n",
       "3      3            4   21  Other          79.63      9110.30   \n",
       "4      4            5   21  Other          77.66      5390.88   \n",
       "\n",
       "   Years_as_Customer  Num_of_Purchases  Average_Transaction_Amount  \\\n",
       "0                  5                22                      453.80   \n",
       "1                 13                77                       22.90   \n",
       "2                 13                71                       50.53   \n",
       "3                  3                33                      411.83   \n",
       "4                 15                43                      101.19   \n",
       "\n",
       "   Num_of_Returns  Num_of_Support_Contacts  Satisfaction_Score  \\\n",
       "0               2                        0                   3   \n",
       "1               2                        2                   3   \n",
       "2               5                        2                   2   \n",
       "3               5                        3                   5   \n",
       "4               3                        0                   5   \n",
       "\n",
       "   Last_Purchase_Days_Ago  Email_Opt_In Promotion_Response  Target_Churn  \n",
       "0                     129             1          Responded             1  \n",
       "1                     227             0          Responded             0  \n",
       "2                     283             0          Responded             1  \n",
       "3                     226             1            Ignored             1  \n",
       "4                     242             0       Unsubscribed             0  "
      ]
     },
     "execution_count": 3,
     "metadata": {},
     "output_type": "execute_result"
    }
   ],
   "source": [
    "res = pd.read_sql(\n",
    "'''\n",
    "SELECT *\n",
    "FROM data\n",
    "LIMIT 5;\n",
    "''',connect)\n",
    "res"
   ]
  },
  {
   "cell_type": "markdown",
   "id": "9ea31f17",
   "metadata": {},
   "source": [
    "### Customers count"
   ]
  },
  {
   "cell_type": "code",
   "execution_count": 4,
   "id": "5a880f0a",
   "metadata": {},
   "outputs": [
    {
     "data": {
      "text/html": [
       "<div>\n",
       "<style scoped>\n",
       "    .dataframe tbody tr th:only-of-type {\n",
       "        vertical-align: middle;\n",
       "    }\n",
       "\n",
       "    .dataframe tbody tr th {\n",
       "        vertical-align: top;\n",
       "    }\n",
       "\n",
       "    .dataframe thead th {\n",
       "        text-align: right;\n",
       "    }\n",
       "</style>\n",
       "<table border=\"1\" class=\"dataframe\">\n",
       "  <thead>\n",
       "    <tr style=\"text-align: right;\">\n",
       "      <th></th>\n",
       "      <th>User_Count</th>\n",
       "    </tr>\n",
       "  </thead>\n",
       "  <tbody>\n",
       "    <tr>\n",
       "      <th>0</th>\n",
       "      <td>1000</td>\n",
       "    </tr>\n",
       "  </tbody>\n",
       "</table>\n",
       "</div>"
      ],
      "text/plain": [
       "   User_Count\n",
       "0        1000"
      ]
     },
     "execution_count": 4,
     "metadata": {},
     "output_type": "execute_result"
    }
   ],
   "source": [
    "res = pd.read_sql(\n",
    "'''\n",
    "SELECT \n",
    "    COUNT(DISTINCT Customer_ID) AS User_Count\n",
    "FROM data;\n",
    "''',connect)\n",
    "res"
   ]
  },
  {
   "cell_type": "markdown",
   "id": "5436fc6c",
   "metadata": {},
   "source": [
    "### Total spent by gender"
   ]
  },
  {
   "cell_type": "code",
   "execution_count": 5,
   "id": "0f1884a5",
   "metadata": {},
   "outputs": [
    {
     "data": {
      "text/html": [
       "<div>\n",
       "<style scoped>\n",
       "    .dataframe tbody tr th:only-of-type {\n",
       "        vertical-align: middle;\n",
       "    }\n",
       "\n",
       "    .dataframe tbody tr th {\n",
       "        vertical-align: top;\n",
       "    }\n",
       "\n",
       "    .dataframe thead th {\n",
       "        text-align: right;\n",
       "    }\n",
       "</style>\n",
       "<table border=\"1\" class=\"dataframe\">\n",
       "  <thead>\n",
       "    <tr style=\"text-align: right;\">\n",
       "      <th></th>\n",
       "      <th>Gender</th>\n",
       "      <th>Total_Customers</th>\n",
       "      <th>Total_Spend</th>\n",
       "    </tr>\n",
       "  </thead>\n",
       "  <tbody>\n",
       "    <tr>\n",
       "      <th>0</th>\n",
       "      <td>Female</td>\n",
       "      <td>342</td>\n",
       "      <td>1794991.62</td>\n",
       "    </tr>\n",
       "    <tr>\n",
       "      <th>1</th>\n",
       "      <td>Male</td>\n",
       "      <td>334</td>\n",
       "      <td>1647955.34</td>\n",
       "    </tr>\n",
       "    <tr>\n",
       "      <th>2</th>\n",
       "      <td>Other</td>\n",
       "      <td>324</td>\n",
       "      <td>1637845.69</td>\n",
       "    </tr>\n",
       "  </tbody>\n",
       "</table>\n",
       "</div>"
      ],
      "text/plain": [
       "   Gender  Total_Customers  Total_Spend\n",
       "0  Female              342   1794991.62\n",
       "1    Male              334   1647955.34\n",
       "2   Other              324   1637845.69"
      ]
     },
     "execution_count": 5,
     "metadata": {},
     "output_type": "execute_result"
    }
   ],
   "source": [
    "res = pd.read_sql(\n",
    "'''\n",
    "SELECT \n",
    "    Gender,\n",
    "    COUNT(*) AS Total_Customers,\n",
    "    SUM(Total_Spend) AS Total_Spend\n",
    "FROM data\n",
    "GROUP BY Gender;\n",
    "''',connect)\n",
    "res"
   ]
  },
  {
   "cell_type": "markdown",
   "id": "f434e641",
   "metadata": {},
   "source": [
    "### Average spent by gender"
   ]
  },
  {
   "cell_type": "code",
   "execution_count": 6,
   "id": "dcf2d590",
   "metadata": {},
   "outputs": [
    {
     "data": {
      "text/html": [
       "<div>\n",
       "<style scoped>\n",
       "    .dataframe tbody tr th:only-of-type {\n",
       "        vertical-align: middle;\n",
       "    }\n",
       "\n",
       "    .dataframe tbody tr th {\n",
       "        vertical-align: top;\n",
       "    }\n",
       "\n",
       "    .dataframe thead th {\n",
       "        text-align: right;\n",
       "    }\n",
       "</style>\n",
       "<table border=\"1\" class=\"dataframe\">\n",
       "  <thead>\n",
       "    <tr style=\"text-align: right;\">\n",
       "      <th></th>\n",
       "      <th>Gender</th>\n",
       "      <th>Total_Customers</th>\n",
       "      <th>Total_Spend</th>\n",
       "    </tr>\n",
       "  </thead>\n",
       "  <tbody>\n",
       "    <tr>\n",
       "      <th>0</th>\n",
       "      <td>Female</td>\n",
       "      <td>342</td>\n",
       "      <td>5248.513509</td>\n",
       "    </tr>\n",
       "    <tr>\n",
       "      <th>1</th>\n",
       "      <td>Male</td>\n",
       "      <td>334</td>\n",
       "      <td>4933.998024</td>\n",
       "    </tr>\n",
       "    <tr>\n",
       "      <th>2</th>\n",
       "      <td>Other</td>\n",
       "      <td>324</td>\n",
       "      <td>5055.079290</td>\n",
       "    </tr>\n",
       "  </tbody>\n",
       "</table>\n",
       "</div>"
      ],
      "text/plain": [
       "   Gender  Total_Customers  Total_Spend\n",
       "0  Female              342  5248.513509\n",
       "1    Male              334  4933.998024\n",
       "2   Other              324  5055.079290"
      ]
     },
     "execution_count": 6,
     "metadata": {},
     "output_type": "execute_result"
    }
   ],
   "source": [
    "res = pd.read_sql(\n",
    "'''\n",
    "SELECT \n",
    "    Gender,\n",
    "    COUNT(*) AS Total_Customers,\n",
    "    AVG(Total_Spend) AS Total_Spend\n",
    "FROM data\n",
    "GROUP BY Gender;\n",
    "''',connect)\n",
    "res"
   ]
  },
  {
   "cell_type": "markdown",
   "id": "d86b90e6",
   "metadata": {},
   "source": [
    "### Gender percentage"
   ]
  },
  {
   "cell_type": "code",
   "execution_count": 7,
   "id": "a2851c4a",
   "metadata": {},
   "outputs": [],
   "source": [
    "res = pd.read_sql(\n",
    "'''\n",
    "SELECT \n",
    "    ROUND(SUM(CASE WHEN Gender='Male' THEN 1 ELSE 0 END),4) AS Male,\n",
    "    ROUND(SUM(CASE WHEN Gender='Female' THEN 1 ELSE 0 END),4) AS Female,\n",
    "    ROUND(SUM(CASE WHEN Gender='Other' THEN 1 ELSE 0 END),4) AS Other\n",
    "FROM data;\n",
    "''',connect)"
   ]
  },
  {
   "cell_type": "code",
   "execution_count": 8,
   "id": "c7f33ce0",
   "metadata": {},
   "outputs": [],
   "source": [
    "df = res.stack().astype(str).reset_index(level=1)\n",
    "df.columns = ['Gender', 'Ratio']"
   ]
  },
  {
   "cell_type": "code",
   "execution_count": 9,
   "id": "dc134508",
   "metadata": {},
   "outputs": [
    {
     "data": {
      "image/png": "[encoded data removed]",
      "text/plain": [
       "<Figure size 864x576 with 1 Axes>"
      ]
     },
     "metadata": {},
     "output_type": "display_data"
    }
   ],
   "source": [
    "fig, ax = plt.subplots(figsize=(12,8))\n",
    "ax.pie(df['Ratio'],labels = df['Gender'], autopct='%1.1f%%')\n",
    "fig.suptitle('Gender percentage distribution')\n",
    "plt.show()"
   ]
  },
  {
   "cell_type": "markdown",
   "id": "ff1c2fd7",
   "metadata": {},
   "source": [
    "### Gender income distribution\n",
    "###### This is easier using simple seaborn"
   ]
  },
  {
   "cell_type": "code",
   "execution_count": 10,
   "id": "4edbfb4f",
   "metadata": {},
   "outputs": [],
   "source": [
    "res = pd.read_sql(\n",
    "'''\n",
    "SELECT \n",
    "    Gender,\n",
    "    Annual_Income\n",
    "FROM data;\n",
    "''',connect)"
   ]
  },
  {
   "cell_type": "code",
   "execution_count": 11,
   "id": "b0ef307b",
   "metadata": {},
   "outputs": [
    {
     "data": {
      "image/png": "[encoded data removed]",
      "text/plain": [
       "<Figure size 864x576 with 1 Axes>"
      ]
     },
     "metadata": {
      "needs_background": "light"
     },
     "output_type": "display_data"
    }
   ],
   "source": [
    "fig, ax = plt.subplots(figsize=(12,8))\n",
    "fig.suptitle('Gender income distribution')\n",
    "sns.boxplot(data=res, x=\"Annual_Income\", y=\"Gender\")\n",
    "plt.show()"
   ]
  },
  {
   "cell_type": "markdown",
   "id": "8c5d01dc",
   "metadata": {},
   "source": [
    "### Gender years as customer distribution\n",
    "###### This is easier using simple seaborn"
   ]
  },
  {
   "cell_type": "code",
   "execution_count": 12,
   "id": "0ebdaf0d",
   "metadata": {},
   "outputs": [],
   "source": [
    "res = pd.read_sql(\n",
    "'''\n",
    "SELECT \n",
    "    Gender,\n",
    "    Years_as_Customer\n",
    "FROM data;\n",
    "''',connect)"
   ]
  },
  {
   "cell_type": "code",
   "execution_count": 13,
   "id": "16dd34ec",
   "metadata": {},
   "outputs": [
    {
     "data": {
      "image/png": "[encoded data removed]",
      "text/plain": [
       "<Figure size 864x576 with 1 Axes>"
      ]
     },
     "metadata": {
      "needs_background": "light"
     },
     "output_type": "display_data"
    }
   ],
   "source": [
    "fig, ax = plt.subplots(figsize=(12,8))\n",
    "fig.suptitle('Gender years as customer distribution')\n",
    "sns.boxplot(data=res, x=\"Years_as_Customer\", y=\"Gender\")\n",
    "plt.show()"
   ]
  },
  {
   "cell_type": "markdown",
   "id": "f207c90c",
   "metadata": {},
   "source": [
    "### Gender age distribution\n",
    "###### This is easier using simple seaborn"
   ]
  },
  {
   "cell_type": "code",
   "execution_count": 14,
   "id": "55d852a7",
   "metadata": {},
   "outputs": [],
   "source": [
    "res = pd.read_sql(\n",
    "'''\n",
    "SELECT \n",
    "    Gender,\n",
    "    Age\n",
    "FROM data;\n",
    "''',connect)"
   ]
  },
  {
   "cell_type": "code",
   "execution_count": 15,
   "id": "cfec3b03",
   "metadata": {},
   "outputs": [
    {
     "data": {
      "image/png": "[encoded data removed]",
      "text/plain": [
       "<Figure size 864x576 with 1 Axes>"
      ]
     },
     "metadata": {
      "needs_background": "light"
     },
     "output_type": "display_data"
    }
   ],
   "source": [
    "fig, ax = plt.subplots(figsize=(12,8))\n",
    "fig.suptitle('Gender age distribution')\n",
    "sns.boxplot(data=res, x=\"Age\", y=\"Gender\")\n",
    "plt.show()"
   ]
  },
  {
   "cell_type": "markdown",
   "id": "3f3b4c91",
   "metadata": {},
   "source": [
    "### Customers with most purchases and total spent"
   ]
  },
  {
   "cell_type": "code",
   "execution_count": 16,
   "id": "2eb5f3ee",
   "metadata": {},
   "outputs": [
    {
     "data": {
      "text/html": [
       "<div>\n",
       "<style scoped>\n",
       "    .dataframe tbody tr th:only-of-type {\n",
       "        vertical-align: middle;\n",
       "    }\n",
       "\n",
       "    .dataframe tbody tr th {\n",
       "        vertical-align: top;\n",
       "    }\n",
       "\n",
       "    .dataframe thead th {\n",
       "        text-align: right;\n",
       "    }\n",
       "</style>\n",
       "<table border=\"1\" class=\"dataframe\">\n",
       "  <thead>\n",
       "    <tr style=\"text-align: right;\">\n",
       "      <th></th>\n",
       "      <th>Customer_ID</th>\n",
       "      <th>Total_Purchases</th>\n",
       "      <th>Total_Spent</th>\n",
       "    </tr>\n",
       "  </thead>\n",
       "  <tbody>\n",
       "    <tr>\n",
       "      <th>0</th>\n",
       "      <td>793</td>\n",
       "      <td>99</td>\n",
       "      <td>4302.65</td>\n",
       "    </tr>\n",
       "    <tr>\n",
       "      <th>1</th>\n",
       "      <td>643</td>\n",
       "      <td>99</td>\n",
       "      <td>1621.30</td>\n",
       "    </tr>\n",
       "    <tr>\n",
       "      <th>2</th>\n",
       "      <td>531</td>\n",
       "      <td>99</td>\n",
       "      <td>1139.41</td>\n",
       "    </tr>\n",
       "    <tr>\n",
       "      <th>3</th>\n",
       "      <td>522</td>\n",
       "      <td>99</td>\n",
       "      <td>9641.11</td>\n",
       "    </tr>\n",
       "    <tr>\n",
       "      <th>4</th>\n",
       "      <td>416</td>\n",
       "      <td>99</td>\n",
       "      <td>6684.31</td>\n",
       "    </tr>\n",
       "    <tr>\n",
       "      <th>5</th>\n",
       "      <td>183</td>\n",
       "      <td>99</td>\n",
       "      <td>9790.09</td>\n",
       "    </tr>\n",
       "    <tr>\n",
       "      <th>6</th>\n",
       "      <td>174</td>\n",
       "      <td>99</td>\n",
       "      <td>7511.69</td>\n",
       "    </tr>\n",
       "    <tr>\n",
       "      <th>7</th>\n",
       "      <td>124</td>\n",
       "      <td>99</td>\n",
       "      <td>631.26</td>\n",
       "    </tr>\n",
       "    <tr>\n",
       "      <th>8</th>\n",
       "      <td>796</td>\n",
       "      <td>98</td>\n",
       "      <td>2079.67</td>\n",
       "    </tr>\n",
       "    <tr>\n",
       "      <th>9</th>\n",
       "      <td>768</td>\n",
       "      <td>98</td>\n",
       "      <td>9374.94</td>\n",
       "    </tr>\n",
       "  </tbody>\n",
       "</table>\n",
       "</div>"
      ],
      "text/plain": [
       "   Customer_ID  Total_Purchases  Total_Spent\n",
       "0          793               99      4302.65\n",
       "1          643               99      1621.30\n",
       "2          531               99      1139.41\n",
       "3          522               99      9641.11\n",
       "4          416               99      6684.31\n",
       "5          183               99      9790.09\n",
       "6          174               99      7511.69\n",
       "7          124               99       631.26\n",
       "8          796               98      2079.67\n",
       "9          768               98      9374.94"
      ]
     },
     "execution_count": 16,
     "metadata": {},
     "output_type": "execute_result"
    }
   ],
   "source": [
    "res = pd.read_sql(\n",
    "'''\n",
    "SELECT\n",
    "    Customer_ID,\n",
    "    SUM(Num_of_Purchases) AS Total_Purchases,\n",
    "    SUM(Total_Spend) AS Total_Spent\n",
    "FROM data\n",
    "GROUP BY Customer_ID\n",
    "ORDER BY Total_Purchases DESC\n",
    "LIMIT 10;\n",
    "''',connect)\n",
    "res"
   ]
  },
  {
   "cell_type": "markdown",
   "id": "0de478bc",
   "metadata": {},
   "source": [
    "### Customers who spent the most"
   ]
  },
  {
   "cell_type": "code",
   "execution_count": 17,
   "id": "4afeeeb4",
   "metadata": {},
   "outputs": [
    {
     "data": {
      "text/html": [
       "<div>\n",
       "<style scoped>\n",
       "    .dataframe tbody tr th:only-of-type {\n",
       "        vertical-align: middle;\n",
       "    }\n",
       "\n",
       "    .dataframe tbody tr th {\n",
       "        vertical-align: top;\n",
       "    }\n",
       "\n",
       "    .dataframe thead th {\n",
       "        text-align: right;\n",
       "    }\n",
       "</style>\n",
       "<table border=\"1\" class=\"dataframe\">\n",
       "  <thead>\n",
       "    <tr style=\"text-align: right;\">\n",
       "      <th></th>\n",
       "      <th>Customer_ID</th>\n",
       "      <th>Total_Spent</th>\n",
       "    </tr>\n",
       "  </thead>\n",
       "  <tbody>\n",
       "    <tr>\n",
       "      <th>0</th>\n",
       "      <td>464</td>\n",
       "      <td>9999.64</td>\n",
       "    </tr>\n",
       "    <tr>\n",
       "      <th>1</th>\n",
       "      <td>551</td>\n",
       "      <td>9999.49</td>\n",
       "    </tr>\n",
       "    <tr>\n",
       "      <th>2</th>\n",
       "      <td>818</td>\n",
       "      <td>9978.79</td>\n",
       "    </tr>\n",
       "    <tr>\n",
       "      <th>3</th>\n",
       "      <td>369</td>\n",
       "      <td>9970.76</td>\n",
       "    </tr>\n",
       "    <tr>\n",
       "      <th>4</th>\n",
       "      <td>81</td>\n",
       "      <td>9961.39</td>\n",
       "    </tr>\n",
       "    <tr>\n",
       "      <th>5</th>\n",
       "      <td>337</td>\n",
       "      <td>9958.72</td>\n",
       "    </tr>\n",
       "    <tr>\n",
       "      <th>6</th>\n",
       "      <td>250</td>\n",
       "      <td>9934.71</td>\n",
       "    </tr>\n",
       "    <tr>\n",
       "      <th>7</th>\n",
       "      <td>49</td>\n",
       "      <td>9906.34</td>\n",
       "    </tr>\n",
       "    <tr>\n",
       "      <th>8</th>\n",
       "      <td>37</td>\n",
       "      <td>9905.49</td>\n",
       "    </tr>\n",
       "    <tr>\n",
       "      <th>9</th>\n",
       "      <td>646</td>\n",
       "      <td>9898.68</td>\n",
       "    </tr>\n",
       "  </tbody>\n",
       "</table>\n",
       "</div>"
      ],
      "text/plain": [
       "   Customer_ID  Total_Spent\n",
       "0          464      9999.64\n",
       "1          551      9999.49\n",
       "2          818      9978.79\n",
       "3          369      9970.76\n",
       "4           81      9961.39\n",
       "5          337      9958.72\n",
       "6          250      9934.71\n",
       "7           49      9906.34\n",
       "8           37      9905.49\n",
       "9          646      9898.68"
      ]
     },
     "execution_count": 17,
     "metadata": {},
     "output_type": "execute_result"
    }
   ],
   "source": [
    "res = pd.read_sql(\n",
    "'''\n",
    "SELECT\n",
    "    Customer_ID,\n",
    "    SUM(Total_Spend) AS Total_Spent\n",
    "FROM data\n",
    "GROUP BY Customer_ID\n",
    "ORDER BY Total_Spent DESC\n",
    "LIMIT 10;\n",
    "''',connect)\n",
    "res"
   ]
  },
  {
   "cell_type": "markdown",
   "id": "c8b4ec39",
   "metadata": {},
   "source": [
    "### Customers with highest average spending"
   ]
  },
  {
   "cell_type": "code",
   "execution_count": 18,
   "id": "f9c3f7a4",
   "metadata": {},
   "outputs": [
    {
     "data": {
      "text/html": [
       "<div>\n",
       "<style scoped>\n",
       "    .dataframe tbody tr th:only-of-type {\n",
       "        vertical-align: middle;\n",
       "    }\n",
       "\n",
       "    .dataframe tbody tr th {\n",
       "        vertical-align: top;\n",
       "    }\n",
       "\n",
       "    .dataframe thead th {\n",
       "        text-align: right;\n",
       "    }\n",
       "</style>\n",
       "<table border=\"1\" class=\"dataframe\">\n",
       "  <thead>\n",
       "    <tr style=\"text-align: right;\">\n",
       "      <th></th>\n",
       "      <th>Customer_ID</th>\n",
       "      <th>Average_Transaction_Amount</th>\n",
       "    </tr>\n",
       "  </thead>\n",
       "  <tbody>\n",
       "    <tr>\n",
       "      <th>0</th>\n",
       "      <td>132</td>\n",
       "      <td>499.57</td>\n",
       "    </tr>\n",
       "    <tr>\n",
       "      <th>1</th>\n",
       "      <td>371</td>\n",
       "      <td>498.82</td>\n",
       "    </tr>\n",
       "    <tr>\n",
       "      <th>2</th>\n",
       "      <td>651</td>\n",
       "      <td>498.26</td>\n",
       "    </tr>\n",
       "    <tr>\n",
       "      <th>3</th>\n",
       "      <td>540</td>\n",
       "      <td>498.10</td>\n",
       "    </tr>\n",
       "    <tr>\n",
       "      <th>4</th>\n",
       "      <td>554</td>\n",
       "      <td>497.57</td>\n",
       "    </tr>\n",
       "    <tr>\n",
       "      <th>5</th>\n",
       "      <td>151</td>\n",
       "      <td>497.43</td>\n",
       "    </tr>\n",
       "    <tr>\n",
       "      <th>6</th>\n",
       "      <td>207</td>\n",
       "      <td>497.07</td>\n",
       "    </tr>\n",
       "    <tr>\n",
       "      <th>7</th>\n",
       "      <td>967</td>\n",
       "      <td>496.82</td>\n",
       "    </tr>\n",
       "    <tr>\n",
       "      <th>8</th>\n",
       "      <td>168</td>\n",
       "      <td>494.48</td>\n",
       "    </tr>\n",
       "    <tr>\n",
       "      <th>9</th>\n",
       "      <td>446</td>\n",
       "      <td>494.07</td>\n",
       "    </tr>\n",
       "  </tbody>\n",
       "</table>\n",
       "</div>"
      ],
      "text/plain": [
       "   Customer_ID  Average_Transaction_Amount\n",
       "0          132                      499.57\n",
       "1          371                      498.82\n",
       "2          651                      498.26\n",
       "3          540                      498.10\n",
       "4          554                      497.57\n",
       "5          151                      497.43\n",
       "6          207                      497.07\n",
       "7          967                      496.82\n",
       "8          168                      494.48\n",
       "9          446                      494.07"
      ]
     },
     "execution_count": 18,
     "metadata": {},
     "output_type": "execute_result"
    }
   ],
   "source": [
    "res = pd.read_sql(\n",
    "'''\n",
    "SELECT\n",
    "    Customer_ID,\n",
    "    Average_Transaction_Amount\n",
    "FROM data\n",
    "ORDER BY Average_Transaction_Amount DESC\n",
    "LIMIT 10;\n",
    "''',connect)\n",
    "res"
   ]
  },
  {
   "cell_type": "markdown",
   "id": "5ff12cb2",
   "metadata": {},
   "source": [
    "### Other stats distributions"
   ]
  },
  {
   "cell_type": "code",
   "execution_count": 19,
   "id": "395428a6",
   "metadata": {},
   "outputs": [
    {
     "data": {
      "text/html": [
       "<div>\n",
       "<style scoped>\n",
       "    .dataframe tbody tr th:only-of-type {\n",
       "        vertical-align: middle;\n",
       "    }\n",
       "\n",
       "    .dataframe tbody tr th {\n",
       "        vertical-align: top;\n",
       "    }\n",
       "\n",
       "    .dataframe thead th {\n",
       "        text-align: right;\n",
       "    }\n",
       "</style>\n",
       "<table border=\"1\" class=\"dataframe\">\n",
       "  <thead>\n",
       "    <tr style=\"text-align: right;\">\n",
       "      <th></th>\n",
       "      <th>Num_of_Purchases</th>\n",
       "      <th>Num_of_Returns</th>\n",
       "      <th>Satisfaction_Score</th>\n",
       "      <th>Annual_Income</th>\n",
       "    </tr>\n",
       "  </thead>\n",
       "  <tbody>\n",
       "    <tr>\n",
       "      <th>0</th>\n",
       "      <td>22</td>\n",
       "      <td>2</td>\n",
       "      <td>3</td>\n",
       "      <td>45.15</td>\n",
       "    </tr>\n",
       "    <tr>\n",
       "      <th>1</th>\n",
       "      <td>77</td>\n",
       "      <td>2</td>\n",
       "      <td>3</td>\n",
       "      <td>79.51</td>\n",
       "    </tr>\n",
       "    <tr>\n",
       "      <th>2</th>\n",
       "      <td>71</td>\n",
       "      <td>5</td>\n",
       "      <td>2</td>\n",
       "      <td>29.19</td>\n",
       "    </tr>\n",
       "    <tr>\n",
       "      <th>3</th>\n",
       "      <td>33</td>\n",
       "      <td>5</td>\n",
       "      <td>5</td>\n",
       "      <td>79.63</td>\n",
       "    </tr>\n",
       "    <tr>\n",
       "      <th>4</th>\n",
       "      <td>43</td>\n",
       "      <td>3</td>\n",
       "      <td>5</td>\n",
       "      <td>77.66</td>\n",
       "    </tr>\n",
       "    <tr>\n",
       "      <th>...</th>\n",
       "      <td>...</td>\n",
       "      <td>...</td>\n",
       "      <td>...</td>\n",
       "      <td>...</td>\n",
       "    </tr>\n",
       "    <tr>\n",
       "      <th>995</th>\n",
       "      <td>29</td>\n",
       "      <td>0</td>\n",
       "      <td>2</td>\n",
       "      <td>143.72</td>\n",
       "    </tr>\n",
       "    <tr>\n",
       "      <th>996</th>\n",
       "      <td>90</td>\n",
       "      <td>6</td>\n",
       "      <td>4</td>\n",
       "      <td>164.19</td>\n",
       "    </tr>\n",
       "    <tr>\n",
       "      <th>997</th>\n",
       "      <td>69</td>\n",
       "      <td>7</td>\n",
       "      <td>1</td>\n",
       "      <td>113.31</td>\n",
       "    </tr>\n",
       "    <tr>\n",
       "      <th>998</th>\n",
       "      <td>31</td>\n",
       "      <td>1</td>\n",
       "      <td>5</td>\n",
       "      <td>72.98</td>\n",
       "    </tr>\n",
       "    <tr>\n",
       "      <th>999</th>\n",
       "      <td>48</td>\n",
       "      <td>6</td>\n",
       "      <td>1</td>\n",
       "      <td>134.86</td>\n",
       "    </tr>\n",
       "  </tbody>\n",
       "</table>\n",
       "<p>1000 rows × 4 columns</p>\n",
       "</div>"
      ],
      "text/plain": [
       "     Num_of_Purchases  Num_of_Returns  Satisfaction_Score  Annual_Income\n",
       "0                  22               2                   3          45.15\n",
       "1                  77               2                   3          79.51\n",
       "2                  71               5                   2          29.19\n",
       "3                  33               5                   5          79.63\n",
       "4                  43               3                   5          77.66\n",
       "..                ...             ...                 ...            ...\n",
       "995                29               0                   2         143.72\n",
       "996                90               6                   4         164.19\n",
       "997                69               7                   1         113.31\n",
       "998                31               1                   5          72.98\n",
       "999                48               6                   1         134.86\n",
       "\n",
       "[1000 rows x 4 columns]"
      ]
     },
     "execution_count": 19,
     "metadata": {},
     "output_type": "execute_result"
    }
   ],
   "source": [
    "res = pd.read_sql(\n",
    "'''\n",
    "SELECT\n",
    "    Num_of_Purchases,\n",
    "    Num_of_Returns,\n",
    "    Satisfaction_Score,\n",
    "    Annual_Income\n",
    "FROM data;\n",
    "''',connect)\n",
    "res"
   ]
  },
  {
   "cell_type": "code",
   "execution_count": 20,
   "id": "e1e1a708",
   "metadata": {},
   "outputs": [
    {
     "data": {
      "image/png": "[encoded data removed]",
      "text/plain": [
       "<Figure size 864x648 with 1 Axes>"
      ]
     },
     "metadata": {
      "needs_background": "light"
     },
     "output_type": "display_data"
    }
   ],
   "source": [
    "fig,ax = plt.subplots(figsize=(12,9))\n",
    "fig.suptitle('Annual income distribution')\n",
    "sns.histplot(data=res, x=\"Annual_Income\")\n",
    "plt.show()"
   ]
  },
  {
   "cell_type": "code",
   "execution_count": 21,
   "id": "c6bab4a1",
   "metadata": {},
   "outputs": [
    {
     "data": {
      "image/png": "[encoded data removed]",
      "text/plain": [
       "<Figure size 864x648 with 1 Axes>"
      ]
     },
     "metadata": {
      "needs_background": "light"
     },
     "output_type": "display_data"
    }
   ],
   "source": [
    "fig,ax = plt.subplots(figsize=(12,9))\n",
    "fig.suptitle('Number of purchases distribution')\n",
    "sns.histplot(data=res, x=\"Num_of_Purchases\")\n",
    "plt.show()"
   ]
  },
  {
   "cell_type": "code",
   "execution_count": 22,
   "id": "1a59ccb8",
   "metadata": {},
   "outputs": [
    {
     "data": {
      "image/png": "[encoded data removed]",
      "text/plain": [
       "<Figure size 864x648 with 1 Axes>"
      ]
     },
     "metadata": {
      "needs_background": "light"
     },
     "output_type": "display_data"
    }
   ],
   "source": [
    "fig,ax = plt.subplots(figsize=(12,9))\n",
    "fig.suptitle('Number of returns distribution')\n",
    "sns.histplot(data=res, x=\"Num_of_Returns\")\n",
    "plt.show()"
   ]
  },
  {
   "cell_type": "code",
   "execution_count": 23,
   "id": "9fad59a2",
   "metadata": {},
   "outputs": [
    {
     "data": {
      "image/png": "[encoded data removed]",
      "text/plain": [
       "<Figure size 864x648 with 1 Axes>"
      ]
     },
     "metadata": {
      "needs_background": "light"
     },
     "output_type": "display_data"
    }
   ],
   "source": [
    "fig,ax = plt.subplots(figsize=(12,9))\n",
    "fig.suptitle('Satisfaction score distribution')\n",
    "sns.histplot(data=res, x=\"Satisfaction_Score\",bins=5)\n",
    "plt.show()"
   ]
  },
  {
   "cell_type": "markdown",
   "id": "0e877f9d",
   "metadata": {},
   "source": [
    "### Age distribution\n",
    "###### This is easier using seaborn histplot but I will make it messy"
   ]
  },
  {
   "cell_type": "code",
   "execution_count": 24,
   "id": "9e36bca8",
   "metadata": {},
   "outputs": [
    {
     "data": {
      "text/html": [
       "<div>\n",
       "<style scoped>\n",
       "    .dataframe tbody tr th:only-of-type {\n",
       "        vertical-align: middle;\n",
       "    }\n",
       "\n",
       "    .dataframe tbody tr th {\n",
       "        vertical-align: top;\n",
       "    }\n",
       "\n",
       "    .dataframe thead th {\n",
       "        text-align: right;\n",
       "    }\n",
       "</style>\n",
       "<table border=\"1\" class=\"dataframe\">\n",
       "  <thead>\n",
       "    <tr style=\"text-align: right;\">\n",
       "      <th></th>\n",
       "      <th>Age_Bucket</th>\n",
       "      <th>Count</th>\n",
       "    </tr>\n",
       "  </thead>\n",
       "  <tbody>\n",
       "    <tr>\n",
       "      <th>0</th>\n",
       "      <td>16-20</td>\n",
       "      <td>57</td>\n",
       "    </tr>\n",
       "    <tr>\n",
       "      <th>1</th>\n",
       "      <td>21-25</td>\n",
       "      <td>114</td>\n",
       "    </tr>\n",
       "    <tr>\n",
       "      <th>2</th>\n",
       "      <td>26-30</td>\n",
       "      <td>95</td>\n",
       "    </tr>\n",
       "    <tr>\n",
       "      <th>3</th>\n",
       "      <td>31-35</td>\n",
       "      <td>84</td>\n",
       "    </tr>\n",
       "    <tr>\n",
       "      <th>4</th>\n",
       "      <td>36-40</td>\n",
       "      <td>92</td>\n",
       "    </tr>\n",
       "    <tr>\n",
       "      <th>5</th>\n",
       "      <td>41-45</td>\n",
       "      <td>100</td>\n",
       "    </tr>\n",
       "    <tr>\n",
       "      <th>6</th>\n",
       "      <td>46-50</td>\n",
       "      <td>91</td>\n",
       "    </tr>\n",
       "    <tr>\n",
       "      <th>7</th>\n",
       "      <td>51-55</td>\n",
       "      <td>193</td>\n",
       "    </tr>\n",
       "    <tr>\n",
       "      <th>8</th>\n",
       "      <td>56-60</td>\n",
       "      <td>90</td>\n",
       "    </tr>\n",
       "    <tr>\n",
       "      <th>9</th>\n",
       "      <td>66-70</td>\n",
       "      <td>84</td>\n",
       "    </tr>\n",
       "  </tbody>\n",
       "</table>\n",
       "</div>"
      ],
      "text/plain": [
       "  Age_Bucket  Count\n",
       "0      16-20     57\n",
       "1      21-25    114\n",
       "2      26-30     95\n",
       "3      31-35     84\n",
       "4      36-40     92\n",
       "5      41-45    100\n",
       "6      46-50     91\n",
       "7      51-55    193\n",
       "8      56-60     90\n",
       "9      66-70     84"
      ]
     },
     "execution_count": 24,
     "metadata": {},
     "output_type": "execute_result"
    }
   ],
   "source": [
    "res = pd.read_sql(\n",
    "'''\n",
    "WITH Ages AS (\n",
    "    SELECT\n",
    "     Age,\n",
    "     CASE\n",
    "      WHEN Age BETWEEN 10 and 15 THEN '10-15'\n",
    "      WHEN Age BETWEEN 16 and 20 THEN '16-20'\n",
    "      WHEN Age BETWEEN 21 and 25 THEN '21-25'\n",
    "      WHEN Age BETWEEN 26 and 30 THEN '26-30'\n",
    "      WHEN Age BETWEEN 31 and 35 THEN '31-35'\n",
    "      WHEN Age BETWEEN 36 and 40 THEN '36-40'\n",
    "      WHEN Age BETWEEN 41 and 45 THEN '41-45'\n",
    "      WHEN Age BETWEEN 46 and 50 THEN '46-50'\n",
    "      WHEN Age BETWEEN 51 and 55 THEN '51-55'\n",
    "      WHEN Age BETWEEN 56 and 60 THEN '51-55'\n",
    "      WHEN Age BETWEEN 61 and 65 THEN '56-60'\n",
    "      WHEN Age BETWEEN 66 and 70 THEN '66-70'\n",
    "      END AS Age_Bucket\n",
    "    FROM data\n",
    ")\n",
    "SELECT\n",
    "    Age_Bucket,\n",
    "    COUNT(*) AS Count\n",
    "FROM Ages\n",
    "GROUP BY Age_Bucket;\n",
    "''',connect)\n",
    "res"
   ]
  },
  {
   "cell_type": "code",
   "execution_count": 25,
   "id": "42b72e8a",
   "metadata": {},
   "outputs": [
    {
     "data": {
      "image/png": "[encoded data removed]",
      "text/plain": [
       "<Figure size 864x648 with 1 Axes>"
      ]
     },
     "metadata": {
      "needs_background": "light"
     },
     "output_type": "display_data"
    }
   ],
   "source": [
    "fig,ax = plt.subplots(figsize=(12,9))\n",
    "fig.suptitle('Age distribution')\n",
    "sns.barplot(data=res, x=\"Age_Bucket\",y='Count')\n",
    "plt.show()"
   ]
  },
  {
   "cell_type": "code",
   "execution_count": 26,
   "id": "0d40602f",
   "metadata": {},
   "outputs": [],
   "source": [
    "res = pd.read_sql(\n",
    "'''\n",
    "WITH Ages AS (\n",
    "    SELECT\n",
    "     *,\n",
    "     CASE\n",
    "      WHEN Age BETWEEN 10 and 15 THEN '10-15'\n",
    "      WHEN Age BETWEEN 16 and 20 THEN '16-20'\n",
    "      WHEN Age BETWEEN 21 and 25 THEN '21-25'\n",
    "      WHEN Age BETWEEN 26 and 30 THEN '26-30'\n",
    "      WHEN Age BETWEEN 31 and 35 THEN '31-35'\n",
    "      WHEN Age BETWEEN 36 and 40 THEN '36-40'\n",
    "      WHEN Age BETWEEN 41 and 45 THEN '41-45'\n",
    "      WHEN Age BETWEEN 46 and 50 THEN '46-50'\n",
    "      WHEN Age BETWEEN 51 and 55 THEN '51-55'\n",
    "      WHEN Age BETWEEN 56 and 60 THEN '51-55'\n",
    "      WHEN Age BETWEEN 61 and 65 THEN '56-60'\n",
    "      WHEN Age BETWEEN 66 and 70 THEN '66-70'\n",
    "      END AS Age_Bucket\n",
    "    FROM data\n",
    ")\n",
    "SELECT\n",
    "    Age_Bucket,\n",
    "    Annual_Income,\n",
    "    Years_as_Customer,\n",
    "    Total_Spend\n",
    "FROM Ages\n",
    "ORDER BY Age_Bucket ASC;\n",
    "''',connect)"
   ]
  },
  {
   "cell_type": "code",
   "execution_count": 27,
   "id": "83bb8f2f",
   "metadata": {},
   "outputs": [
    {
     "data": {
      "image/png": "[encoded data removed]",
      "text/plain": [
       "<Figure size 864x576 with 1 Axes>"
      ]
     },
     "metadata": {
      "needs_background": "light"
     },
     "output_type": "display_data"
    }
   ],
   "source": [
    "fig, ax = plt.subplots(figsize=(12,8))\n",
    "fig.suptitle('Age ranges income distribution')\n",
    "sns.boxplot(data=res, x=\"Annual_Income\", y=\"Age_Bucket\")\n",
    "plt.show()"
   ]
  },
  {
   "cell_type": "code",
   "execution_count": 28,
   "id": "2e0b8a06",
   "metadata": {},
   "outputs": [
    {
     "data": {
      "image/png": "[encoded data removed]",
      "text/plain": [
       "<Figure size 864x576 with 1 Axes>"
      ]
     },
     "metadata": {
      "needs_background": "light"
     },
     "output_type": "display_data"
    }
   ],
   "source": [
    "fig, ax = plt.subplots(figsize=(12,8))\n",
    "fig.suptitle('Age ranges spending distribution')\n",
    "sns.boxplot(data=res, x=\"Total_Spend\", y=\"Age_Bucket\")\n",
    "plt.show()"
   ]
  },
  {
   "cell_type": "code",
   "execution_count": 29,
   "id": "fc3691a4",
   "metadata": {},
   "outputs": [
    {
     "data": {
      "image/png": "[encoded data removed]",
      "text/plain": [
       "<Figure size 864x576 with 1 Axes>"
      ]
     },
     "metadata": {
      "needs_background": "light"
     },
     "output_type": "display_data"
    }
   ],
   "source": [
    "fig, ax = plt.subplots(figsize=(12,8))\n",
    "fig.suptitle('Age ranges years as customer distribution')\n",
    "sns.boxplot(data=res, x=\"Years_as_Customer\", y=\"Age_Bucket\")\n",
    "plt.show()"
   ]
  },
  {
   "cell_type": "code",
   "execution_count": 30,
   "id": "14cf1819",
   "metadata": {},
   "outputs": [],
   "source": [
    "## There is people under 20 who have been customers for 10+ years!?"
   ]
  },
  {
   "cell_type": "code",
   "execution_count": 31,
   "id": "7d8136f0",
   "metadata": {},
   "outputs": [],
   "source": [
    "res = pd.read_sql(\n",
    "'''\n",
    "SELECT\n",
    "    Years_as_Customer,\n",
    "    Age\n",
    "FROM data\n",
    "WHERE Age BETWEEN 10 AND 20 AND Years_as_Customer > 10;\n",
    "''',connect)"
   ]
  },
  {
   "cell_type": "code",
   "execution_count": 32,
   "id": "bc9addb7",
   "metadata": {},
   "outputs": [
    {
     "data": {
      "text/html": [
       "<div>\n",
       "<style scoped>\n",
       "    .dataframe tbody tr th:only-of-type {\n",
       "        vertical-align: middle;\n",
       "    }\n",
       "\n",
       "    .dataframe tbody tr th {\n",
       "        vertical-align: top;\n",
       "    }\n",
       "\n",
       "    .dataframe thead th {\n",
       "        text-align: right;\n",
       "    }\n",
       "</style>\n",
       "<table border=\"1\" class=\"dataframe\">\n",
       "  <thead>\n",
       "    <tr style=\"text-align: right;\">\n",
       "      <th></th>\n",
       "      <th>Years_as_Customer</th>\n",
       "      <th>Age</th>\n",
       "    </tr>\n",
       "  </thead>\n",
       "  <tbody>\n",
       "    <tr>\n",
       "      <th>0</th>\n",
       "      <td>13</td>\n",
       "      <td>18</td>\n",
       "    </tr>\n",
       "    <tr>\n",
       "      <th>1</th>\n",
       "      <td>18</td>\n",
       "      <td>18</td>\n",
       "    </tr>\n",
       "    <tr>\n",
       "      <th>2</th>\n",
       "      <td>16</td>\n",
       "      <td>19</td>\n",
       "    </tr>\n",
       "    <tr>\n",
       "      <th>3</th>\n",
       "      <td>12</td>\n",
       "      <td>18</td>\n",
       "    </tr>\n",
       "    <tr>\n",
       "      <th>4</th>\n",
       "      <td>14</td>\n",
       "      <td>20</td>\n",
       "    </tr>\n",
       "    <tr>\n",
       "      <th>5</th>\n",
       "      <td>16</td>\n",
       "      <td>20</td>\n",
       "    </tr>\n",
       "    <tr>\n",
       "      <th>6</th>\n",
       "      <td>19</td>\n",
       "      <td>19</td>\n",
       "    </tr>\n",
       "    <tr>\n",
       "      <th>7</th>\n",
       "      <td>19</td>\n",
       "      <td>20</td>\n",
       "    </tr>\n",
       "    <tr>\n",
       "      <th>8</th>\n",
       "      <td>16</td>\n",
       "      <td>18</td>\n",
       "    </tr>\n",
       "    <tr>\n",
       "      <th>9</th>\n",
       "      <td>14</td>\n",
       "      <td>18</td>\n",
       "    </tr>\n",
       "    <tr>\n",
       "      <th>10</th>\n",
       "      <td>12</td>\n",
       "      <td>18</td>\n",
       "    </tr>\n",
       "    <tr>\n",
       "      <th>11</th>\n",
       "      <td>13</td>\n",
       "      <td>19</td>\n",
       "    </tr>\n",
       "    <tr>\n",
       "      <th>12</th>\n",
       "      <td>18</td>\n",
       "      <td>20</td>\n",
       "    </tr>\n",
       "    <tr>\n",
       "      <th>13</th>\n",
       "      <td>14</td>\n",
       "      <td>19</td>\n",
       "    </tr>\n",
       "    <tr>\n",
       "      <th>14</th>\n",
       "      <td>15</td>\n",
       "      <td>18</td>\n",
       "    </tr>\n",
       "    <tr>\n",
       "      <th>15</th>\n",
       "      <td>16</td>\n",
       "      <td>18</td>\n",
       "    </tr>\n",
       "    <tr>\n",
       "      <th>16</th>\n",
       "      <td>11</td>\n",
       "      <td>20</td>\n",
       "    </tr>\n",
       "    <tr>\n",
       "      <th>17</th>\n",
       "      <td>18</td>\n",
       "      <td>20</td>\n",
       "    </tr>\n",
       "    <tr>\n",
       "      <th>18</th>\n",
       "      <td>18</td>\n",
       "      <td>20</td>\n",
       "    </tr>\n",
       "    <tr>\n",
       "      <th>19</th>\n",
       "      <td>14</td>\n",
       "      <td>20</td>\n",
       "    </tr>\n",
       "    <tr>\n",
       "      <th>20</th>\n",
       "      <td>18</td>\n",
       "      <td>18</td>\n",
       "    </tr>\n",
       "    <tr>\n",
       "      <th>21</th>\n",
       "      <td>12</td>\n",
       "      <td>18</td>\n",
       "    </tr>\n",
       "    <tr>\n",
       "      <th>22</th>\n",
       "      <td>13</td>\n",
       "      <td>19</td>\n",
       "    </tr>\n",
       "    <tr>\n",
       "      <th>23</th>\n",
       "      <td>18</td>\n",
       "      <td>18</td>\n",
       "    </tr>\n",
       "  </tbody>\n",
       "</table>\n",
       "</div>"
      ],
      "text/plain": [
       "    Years_as_Customer  Age\n",
       "0                  13   18\n",
       "1                  18   18\n",
       "2                  16   19\n",
       "3                  12   18\n",
       "4                  14   20\n",
       "5                  16   20\n",
       "6                  19   19\n",
       "7                  19   20\n",
       "8                  16   18\n",
       "9                  14   18\n",
       "10                 12   18\n",
       "11                 13   19\n",
       "12                 18   20\n",
       "13                 14   19\n",
       "14                 15   18\n",
       "15                 16   18\n",
       "16                 11   20\n",
       "17                 18   20\n",
       "18                 18   20\n",
       "19                 14   20\n",
       "20                 18   18\n",
       "21                 12   18\n",
       "22                 13   19\n",
       "23                 18   18"
      ]
     },
     "execution_count": 32,
     "metadata": {},
     "output_type": "execute_result"
    }
   ],
   "source": [
    "res"
   ]
  }
 ],
 "metadata": {
  "kernelspec": {
   "display_name": "Python 3 (ipykernel)",
   "language": "python",
   "name": "python3"
  },
  "language_info": {
   "codemirror_mode": {
    "name": "ipython",
    "version": 3
   },
   "file_extension": ".py",
   "mimetype": "text/x-python",
   "name": "python",
   "nbconvert_exporter": "python",
   "pygments_lexer": "ipython3",
   "version": "3.10.0"
  }
 },
 "nbformat": 4,
 "nbformat_minor": 5
}
